{
 "cells": [
  {
   "cell_type": "code",
   "execution_count": 1,
   "metadata": {},
   "outputs": [
    {
     "name": "stderr",
     "output_type": "stream",
     "text": [
      "Using TensorFlow backend.\n"
     ]
    }
   ],
   "source": [
    "from os import listdir\n",
    "from keras.models import model_from_json\n",
    "from keras.preprocessing.text import Tokenizer\n",
    "from keras.preprocessing.sequence import pad_sequences\n",
    "from nltk.translate.bleu_score import sentence_bleu,corpus_bleu\n",
    "from keras.applications.inception_resnet_v2 import InceptionResNetV2\n",
    "from tqdm import tqdm\n",
    "import numpy as np\n",
    "import h5py as h5py\n",
    "from compiler.classes.Compiler import *\n",
    "from compiler.classes.Utils import *\n",
    "from compiler.classes.Node import *"
   ]
  },
  {
   "cell_type": "code",
   "execution_count": 2,
   "metadata": {},
   "outputs": [],
   "source": [
    "# Read a file and return a string\n",
    "def load_doc(filename):\n",
    "    file = open(filename, 'r')\n",
    "    text = file.read()\n",
    "    file.close()\n",
    "    return text\n",
    "\n",
    "def load_data(data_dir):\n",
    "    text = []\n",
    "    images = []\n",
    "    # Load all the files and order them\n",
    "    all_filenames = listdir(data_dir)\n",
    "    all_filenames.sort()\n",
    "    #print(\"i'here\")\n",
    "    for filename in (all_filenames)[-2:]:\n",
    "        #print(\"i'm inside\")\n",
    "        if filename[-3:] == \"npz\":\n",
    "            # Load the images already prepared in arrays\n",
    "            image = np.load(data_dir+filename)\n",
    "            images.append(image['features'])\n",
    "        else:\n",
    "            # Load the boostrap tokens and rap them in a start and end tag\n",
    "            syntax = '<START> ' + load_doc(data_dir+filename) + ' <END>'\n",
    "            # Seperate all the words with a single space\n",
    "            syntax = ' '.join(syntax.split())\n",
    "            # Add a space after each comma\n",
    "            syntax = syntax.replace(',', ' ,')\n",
    "            text.append(syntax)\n",
    "    images = np.array(images, dtype=float)\n",
    "    return images, text"
   ]
  },
  {
   "cell_type": "code",
   "execution_count": 3,
   "metadata": {},
   "outputs": [],
   "source": [
    "# Initialize the function to create the vocabulary \n",
    "tokenizer = Tokenizer(filters='', split=\" \", lower=False)\n",
    "# Create the vocabulary \n",
    "#tokenizer.fit_on_texts([load_doc('Vocabulary/carbon.vocab')])\n",
    "#tokenizer.fit_on_texts([load_doc('Vocabulary/carbon_A+B+D.vocab')])\n",
    "tokenizer.fit_on_texts([load_doc('Vocabulary/carbon_A_Dataset.vocab')])\n"
   ]
  },
  {
   "cell_type": "code",
   "execution_count": 4,
   "metadata": {},
   "outputs": [],
   "source": [
    "dir_name = './test_now/'\n",
    "train_features, texts = load_data(dir_name)\n"
   ]
  },
  {
   "cell_type": "code",
   "execution_count": 10,
   "metadata": {},
   "outputs": [
    {
     "name": "stdout",
     "output_type": "stream",
     "text": [
      "Loaded model from disk\n"
     ]
    }
   ],
   "source": [
    "#load model and weights \n",
    "#json_file = open('gui_v2-may14-100.json', 'r')\n",
    "#json_file = open('A+B+D-june18-100.json', 'r')\n",
    "json_file = open('A-may15-100.json', 'r')\n",
    "\n",
    "loaded_model_json = json_file.read()\n",
    "json_file.close()\n",
    "loaded_model = model_from_json(loaded_model_json)\n",
    "# load weights into new model\n",
    "#loaded_model.load_weights(\"may14-gui_v2-org-weights-epoch-0100--val_loss-3.7511--loss-0.0000.hdf5\")\n",
    "\n",
    "#loaded_model.load_weights(\"A-june18-org-weights-epoch-0100--val_loss-3.5928--loss-0.4477.hdf5\")\n",
    "loaded_model.load_weights(\"A-may15-org-weights-epoch-0050--val_loss-2.2828--loss-0.1636.hdf5\")\n",
    "\n",
    "print(\"Loaded model from disk\")"
   ]
  },
  {
   "cell_type": "code",
   "execution_count": 6,
   "metadata": {},
   "outputs": [
    {
     "name": "stdout",
     "output_type": "stream",
     "text": [
      "header\n"
     ]
    }
   ],
   "source": [
    "# map an integer to a word\n",
    "def word_for_id(integer, tokenizer):\n",
    "    for word, index in tokenizer.word_index.items():\n",
    "        if index == integer:\n",
    "            return word\n",
    "    return None\n",
    "print(word_for_id(15, tokenizer))"
   ]
  },
  {
   "cell_type": "code",
   "execution_count": 7,
   "metadata": {},
   "outputs": [],
   "source": [
    "# generate a description for an image\n",
    "def generate_desc(model, tokenizer, photo, max_length):\n",
    "    photo = np.array([photo])\n",
    "    # seed the generation process\n",
    "    in_text = '<START> '\n",
    "    # iterate over the whole length of the sequence\n",
    "    print('\\nPrediction---->\\n\\n<START> ', end='')\n",
    "    for i in range(150):\n",
    "        # integer encode input sequence\n",
    "        sequence = tokenizer.texts_to_sequences([in_text])[0]\n",
    "        # pad input\n",
    "        sequence = pad_sequences([sequence], maxlen=max_length)\n",
    "        # predict next word\n",
    "        yhat = loaded_model.predict([photo, sequence], verbose=0)\n",
    "        # convert probability to integer\n",
    "        yhat = np.argmax(yhat)\n",
    "        # map integer to word\n",
    "        word = word_for_id(yhat, tokenizer)\n",
    "        # stop if we cannot map the word\n",
    "        if word is None:\n",
    "            break\n",
    "        # append as input for generating the next word\n",
    "        in_text += word + ' '\n",
    "        # stop if we predict the end of the sequence\n",
    "        print(word + ' ', end='')\n",
    "        if word == '<END>':\n",
    "            break\n",
    "    return in_text"
   ]
  },
  {
   "cell_type": "code",
   "execution_count": 11,
   "metadata": {},
   "outputs": [
    {
     "name": "stdout",
     "output_type": "stream",
     "text": [
      "\n",
      "Prediction---->\n",
      "\n",
      "<START> text-input-basic , text-input-basic , text-input-basic , text-input-basic , accordionItem , btn-secondary , btn-primary } <END> "
     ]
    }
   ],
   "source": [
    "max_length = 20\n",
    "\n",
    "def evaluate_model(model, descriptions, photos, tokenizer, max_length):\n",
    "    actual, predicted = list(), list()\n",
    "\n",
    "    for i in range(len(texts)):\n",
    "        yhat = generate_desc(model, tokenizer, photos[i], max_length)\n",
    "     \n",
    "        actual.append([texts[i].split()])\n",
    "        predicted.append(yhat.split())\n",
    "\n",
    "    bleu = corpus_bleu(actual, predicted)\n",
    "    return bleu, actual, predicted\n",
    "\n",
    "bleu, actual, predicted = evaluate_model(loaded_model, texts, train_features, tokenizer, max_length)"
   ]
  },
  {
   "cell_type": "code",
   "execution_count": 12,
   "metadata": {},
   "outputs": [
    {
     "name": "stdout",
     "output_type": "stream",
     "text": [
      "['text-input-basic,text-input-basic,text-input-basic,text-input-basic,accordionItem,btn-secondary,btn-primary', '}']\n"
     ]
    },
    {
     "data": {
      "text/plain": [
       "\"import { Button, Checkbox, Accordion, Breadcrumb, Codesnippet, RadioButton } from 'carbon-components-react';import React, { Component } from 'react'; class App  extends Component { render() { return ( <TextInput defaultValue='This is not a default value' disabled={false} helperText='Optional helper text.' id='test2' invalid={false} invalidText='A valid value is required' labelText='Text Input label' light={false} onChange={function noRefCheck(){}} onClick={function noRefCheck(){}} placeholder='Placeholder text' size={undefined} type='text' /><TextInput defaultValue='This is not a default value' disabled={false} helperText='Optional helper text.' id='test2' invalid={false} invalidText='A valid value is required' labelText='Text Input label' light={false} onChange={function noRefCheck(){}} onClick={function noRefCheck(){}} placeholder='Placeholder text' size={undefined} type='text' /><TextInput defaultValue='This is not a default value' disabled={false} helperText='Optional helper text.' id='test2' invalid={false} invalidText='A valid value is required' labelText='Text Input label' light={false} onChange={function noRefCheck(){}} onClick={function noRefCheck(){}} placeholder='Placeholder text' size={undefined} type='text' /><TextInput defaultValue='This is not a default value' disabled={false} helperText='Optional helper text.' id='test2' invalid={false} invalidText='A valid value is required' labelText='Text Input label' light={false} onChange={function noRefCheck(){}} onClick={function noRefCheck(){}} placeholder='Placeholder text' size={undefined} type='text' /><AccordionItem onClick={function noRefCheck(){}} onHeadingClick={function noRefCheck(){}} title='Section 1 title'> </AccordionItem><Button disabled={false} href='' iconDescription='Button icon' kind='secondary' onClick={function noRefCheck(){}} onFocus={function noRefCheck(){}} renderIcon={undefined} size='default' tabIndex={0} type='button'> Button </Button><Button disabled={false} href='' iconDescription='Button icon' kind='primary' onClick={function noRefCheck(){}} onFocus={function noRefCheck(){}} renderIcon={undefined} size='default' tabIndex={0} type='button'> Button </Button> ); }}\""
      ]
     },
     "execution_count": 12,
     "metadata": {},
     "output_type": "execute_result"
    }
   ],
   "source": [
    "from __future__ import print_function\n",
    "\n",
    "import sys\n",
    "from os.path import basename\n",
    "from classes.Utils import *\n",
    "from classes.Compiler import *\n",
    "\n",
    "if (__name__ == \"__main__\"):\n",
    "    argv = sys.argv[1:]\n",
    "    length = len(argv)\n",
    "    if length != 0:\n",
    "        input_file = argv[0]\n",
    "    else:\n",
    "        print(\"Error: not enough argument supplied:\")\n",
    "        print(\"carbon-compiler.py <i\")\n",
    "        exit(0)\n",
    "\n",
    "\n",
    "def render_content_with_text(key, value):\n",
    "    if (FILL_WITH_RANDOM_TEXT):\n",
    "        if (key.find(\"button\") != -1):\n",
    "            value = value.replace(TEXT_PLACE_HOLDER, Utils.get_random_text())\n",
    "        \n",
    "        elif (key.find(\"CodeSnippet\") != -1):\n",
    "            value = value.replace(TEXT_PLACE_HOLDER,\n",
    "                                  Utils.get_random_text(length_text=30, space_number=7, with_upper_case=False))\n",
    "            \n",
    "        elif (key.find(\"Search\") != -1):\n",
    "            value = value.replace(TEXT_PLACE_HOLDER,\n",
    "                                  Utils.get_random_text(length_text=35, space_number=7, with_upper_case=False))\n",
    "    return value\n",
    "    \n",
    "\n",
    "#dsl_path = \"assets/carbon-dsl-mapping.json\"\n",
    "dsl_path=\"dsl_mapper/dsl_mapper_updated.json\"\n",
    "compiler = Compiler(dsl_path)\n",
    "FILL_WITH_RANDOM_TEXT = True\n",
    "TEXT_PLACE_HOLDER = \"[]\"\n",
    "file_uid = basename(input_file)[:basename(input_file).find(\".\")]\n",
    "path = input_file[:input_file.find(file_uid)]\n",
    "input_file_path = \"{}{}.gui\".format(path, file_uid)\n",
    "output_file_path = \"{}{}.xml\".format(path, file_uid)\n",
    "#compiler.compile(\"[ 'text-input-basic', ',', ',', 'text-input-basic', '}', 'text-input-basic', 'text-input-basic', 'text-input-basic', 'text-input-basic', \", output_file_path)\n",
    "#compiler.compile( \" text-input-basic , text-input-basic , text-input-basic  , accordionItem , btn-secondary , btn-primary \" , output_file_path)\n",
    "compiler.compile(predicted[0] , output_file_path)"
   ]
  },
  {
   "cell_type": "code",
   "execution_count": 13,
   "metadata": {},
   "outputs": [
    {
     "name": "stdout",
     "output_type": "stream",
     "text": [
      "0.8884420215438181\n"
     ]
    }
   ],
   "source": [
    "print(bleu)"
   ]
  },
  {
   "cell_type": "code",
   "execution_count": 14,
   "metadata": {},
   "outputs": [
    {
     "name": "stdout",
     "output_type": "stream",
     "text": [
      "['<START>', 'text-input-basic', ',', 'text-input-basic', ',', 'text-input-basic', ',', 'text-input-basic', ',', 'accordionItem', ',', 'btn-secondary', ',', 'btn-primary', '}', '<END>']\n"
     ]
    }
   ],
   "source": [
    "print(predicted[0])"
   ]
  },
  {
   "cell_type": "code",
   "execution_count": null,
   "metadata": {},
   "outputs": [],
   "source": []
  },
  {
   "cell_type": "code",
   "execution_count": null,
   "metadata": {},
   "outputs": [],
   "source": []
  },
  {
   "cell_type": "code",
   "execution_count": null,
   "metadata": {},
   "outputs": [],
   "source": []
  }
 ],
 "metadata": {
  "kernelspec": {
   "display_name": "Python 3",
   "language": "python",
   "name": "python3"
  },
  "language_info": {
   "codemirror_mode": {
    "name": "ipython",
    "version": 3
   },
   "file_extension": ".py",
   "mimetype": "text/x-python",
   "name": "python",
   "nbconvert_exporter": "python",
   "pygments_lexer": "ipython3",
   "version": "3.7.4"
  }
 },
 "nbformat": 4,
 "nbformat_minor": 2
}
