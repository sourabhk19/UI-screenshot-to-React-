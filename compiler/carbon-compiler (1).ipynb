{
 "cells": [
  {
   "cell_type": "code",
   "execution_count": 1,
   "metadata": {},
   "outputs": [
    {
     "name": "stdout",
     "output_type": "stream",
     "text": [
      "['text-input-basic,text-input-basic,text-input-basic,accordionItem,btn-secondary,btn-primary']\n"
     ]
    },
    {
     "data": {
      "text/plain": [
       "\"import { Button, Checkbox, Accordion, Breadcrumb, Codesnippet, RadioButton } from 'carbon-components-react';import React, { Component } from 'react'; class App  extends Component { render() { return ( <TextInput defaultValue='This is not a default value' disabled={false} helperText='Optional helper text.' id='test2' invalid={false} invalidText='A valid value is required' labelText='Text Input label' light={false} onChange={function noRefCheck(){}} onClick={function noRefCheck(){}} placeholder='Placeholder text' size={undefined} type='text' /><TextInput defaultValue='This is not a default value' disabled={false} helperText='Optional helper text.' id='test2' invalid={false} invalidText='A valid value is required' labelText='Text Input label' light={false} onChange={function noRefCheck(){}} onClick={function noRefCheck(){}} placeholder='Placeholder text' size={undefined} type='text' /><TextInput defaultValue='This is not a default value' disabled={false} helperText='Optional helper text.' id='test2' invalid={false} invalidText='A valid value is required' labelText='Text Input label' light={false} onChange={function noRefCheck(){}} onClick={function noRefCheck(){}} placeholder='Placeholder text' size={undefined} type='text' /><AccordionItem onClick={function noRefCheck(){}} onHeadingClick={function noRefCheck(){}} title='Section 1 title'> </AccordionItem><Button disabled={false} href='' iconDescription='Button icon' kind='secondary' onClick={function noRefCheck(){}} onFocus={function noRefCheck(){}} renderIcon={undefined} size='default' tabIndex={0} type='button'> Ieixrpq Qz </Button><Button disabled={false} href='' iconDescription='Button icon' kind='primary' onClick={function noRefCheck(){}} onFocus={function noRefCheck(){}} renderIcon={undefined} size='default' tabIndex={0} type='button'> Agf Flpguv </Button> ); }}\""
      ]
     },
     "execution_count": 1,
     "metadata": {},
     "output_type": "execute_result"
    }
   ],
   "source": [
    "from __future__ import print_function\n",
    "\n",
    "import sys\n",
    "from os.path import basename\n",
    "from classes.Utils import *\n",
    "from classes.Compiler import *\n",
    "\n",
    "if (__name__ == \"__main__\"):\n",
    "    argv = sys.argv[1:]\n",
    "    length = len(argv)\n",
    "    if length != 0:\n",
    "        input_file = argv[0]\n",
    "    else:\n",
    "        print(\"Error: not enough argument supplied:\")\n",
    "        print(\"carbon-compiler.py <i\")\n",
    "        exit(0)\n",
    "\n",
    "\n",
    "def render_content_with_text(key, value):\n",
    "    if (FILL_WITH_RANDOM_TEXT):\n",
    "        if (key.find(\"button\") != -1):\n",
    "            value = value.replace(TEXT_PLACE_HOLDER, Utils.get_random_text())\n",
    "        \n",
    "        elif (key.find(\"CodeSnippet\") != -1):\n",
    "            value = value.replace(TEXT_PLACE_HOLDER,\n",
    "                                  Utils.get_random_text(length_text=30, space_number=7, with_upper_case=False))\n",
    "            \n",
    "        elif (key.find(\"Search\") != -1):\n",
    "            value = value.replace(TEXT_PLACE_HOLDER,\n",
    "                                  Utils.get_random_text(length_text=35, space_number=7, with_upper_case=False))\n",
    "    return value\n",
    "    \n",
    "\n",
    "#dsl_path = \"assets/carbon-dsl-mapping.json\"\n",
    "dsl_path=\"dsl_mapper_updated.json\"\n",
    "compiler = Compiler(dsl_path)\n",
    "FILL_WITH_RANDOM_TEXT = True\n",
    "TEXT_PLACE_HOLDER = \"[]\"\n",
    "file_uid = basename(input_file)[:basename(input_file).find(\".\")]\n",
    "path = input_file[:input_file.find(file_uid)]\n",
    "input_file_path = \"{}{}.gui\".format(path, file_uid)\n",
    "output_file_path = \"{}{}.xml\".format(path, file_uid)\n",
    "#compiler.compile(\"[ 'text-input-basic', ',', ',', 'text-input-basic', '}', 'text-input-basic', 'text-input-basic', 'text-input-basic', 'text-input-basic', \", output_file_path)\n",
    "compiler.compile( \" text-input-basic , text-input-basic , text-input-basic  , accordionItem , btn-secondary , btn-primary \" , output_file_path)"
   ]
  },
  {
   "cell_type": "code",
   "execution_count": null,
   "metadata": {},
   "outputs": [],
   "source": []
  },
  {
   "cell_type": "code",
   "execution_count": null,
   "metadata": {},
   "outputs": [],
   "source": []
  },
  {
   "cell_type": "code",
   "execution_count": null,
   "metadata": {},
   "outputs": [],
   "source": []
  }
 ],
 "metadata": {
  "kernelspec": {
   "display_name": "Python 3",
   "language": "python",
   "name": "python3"
  },
  "language_info": {
   "codemirror_mode": {
    "name": "ipython",
    "version": 3
   },
   "file_extension": ".py",
   "mimetype": "text/x-python",
   "name": "python",
   "nbconvert_exporter": "python",
   "pygments_lexer": "ipython3",
   "version": "3.7.4"
  }
 },
 "nbformat": 4,
 "nbformat_minor": 2
}
